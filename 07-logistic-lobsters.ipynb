{
 "cells": [
  {
   "cell_type": "markdown",
   "metadata": {},
   "source": [
    "# Lobsters Logistic Redux\n",
    "Let's return to the lobster problem, but this I'd like you to use logistic regression to find the solution.  First, the data:"
   ]
  },
  {
   "cell_type": "code",
   "execution_count": 10,
   "metadata": {},
   "outputs": [
    {
     "data": {
      "image/png": "[encoded data removed]",
      "text/plain": [
       "<Figure size 432x288 with 1 Axes>"
      ]
     },
     "metadata": {
      "needs_background": "light"
     },
     "output_type": "display_data"
    }
   ],
   "source": [
    "import numpy as np\n",
    "import matplotlib.pyplot as plt\n",
    "data = np.loadtxt('datasets/lobster_survive.dat',skiprows=1)\n",
    "X,Y = data.T\n",
    "X -= X.mean()\n",
    "X /= X.std()\n",
    "\n",
    "bins = np.unique(X)\n",
    "plt.hist(X[Y==0],bins,histtype='step',density=True,label='Died',color='blue')\n",
    "plt.hist(X[Y==1],bins,histtype='step',density=True,label='Survived',color='red')\n",
    "plt.legend()\n",
    "plt.show()"
   ]
  },
  {
   "cell_type": "markdown",
   "metadata": {},
   "source": [
    "We would still like to know\n",
    "$$\n",
    "P(\\text{Survive}=1|\\text{Length}=x),\n",
    "$$\n",
    "where $\\text{Survive}$ is a variable indicating whether the lobster survived or not, and $\\text{Length}$ is the length of the lobster ($x\\in\\mathcal{R}$).  \n",
    "\n",
    "In logistic regression, we will approach this directly by implementing logistic regression, where we model\n",
    "$$\n",
    "P(\\text{Survive}=1|\\text{Length}=x) = \\sigma(\\Phi \\mathbf{w}).\n",
    "$$\n",
    "First implement the logistic function\n",
    "$$\n",
    "\\sigma(z) = \\frac{1}{1 + \\mathrm{exp}(-z)}\n",
    "$$"
   ]
  },
  {
   "cell_type": "code",
   "execution_count": 3,
   "metadata": {},
   "outputs": [],
   "source": [
    "def sigmoid(z):\n",
    "    return 0 #!"
   ]
  },
  {
   "cell_type": "markdown",
   "metadata": {},
   "source": [
    "Next, define the log-posterior function\n",
    "$$\n",
    "\\mathcal{L}(\\mathbf{w};\\mathbf{X}_{obs},\\mathbf{Y}_{obs}) = \\sum_{i=1}^m \\left[Y_{obs,i} \\ln \\sigma(\\Phi_i \\mathbf{w}) + (1-Y_{obs,i}) \\ln (1-\\sigma(\\Phi_i \\mathbf{w}))\\right] - \\lambda \\mathbf{w}^T \\mathbf{w} \n",
    "$$"
   ]
  },
  {
   "cell_type": "code",
   "execution_count": 41,
   "metadata": {},
   "outputs": [],
   "source": [
    "def L(w,X,Y):\n",
    "    return 0 #!"
   ]
  },
  {
   "cell_type": "markdown",
   "metadata": {},
   "source": [
    "We currently lack the tools necessary to minimize this function elegantly, but we can attack it using brute force.  Make the assumption that \n",
    "$$\n",
    "\\Phi_i w = w_0 + w_1 x.\n",
    "$$\n",
    "$$\n",
    "\\Phi = \\begin{bmatrix} 1 & x_0 \\\\ 1 & x_1 \\\\ \\vdots & \\vdots \\\\ 1 & x_m \\end{bmatrix}\n",
    "$$\n",
    "Using either a grid-search approach (check out numpy.meshgrid) or a random sampling approach, search for the values of $\\mathbf{w}$ that maximizes this likelihood function.  Plot all computed values of $\\mathcal{L}(\\mathbf{w})$ as a function of $\\mathbf{w}$.  Useful commands for this plotting if you take the grid search approach might be plt.contourf.  For the random sampling approach, you might try plt.scatter (using the c= keyword argument).\n"
   ]
  },
  {
   "cell_type": "code",
   "execution_count": null,
   "metadata": {},
   "outputs": [],
   "source": [
    "# Develop a method to find the best values of w_0 and w_1.  "
   ]
  },
  {
   "cell_type": "markdown",
   "metadata": {},
   "source": [
    "Using this best parameter set, plot lobster survival as a function of length.  "
   ]
  },
  {
   "cell_type": "code",
   "execution_count": 11,
   "metadata": {},
   "outputs": [],
   "source": [
    "#! Plot lobster survival "
   ]
  },
  {
   "cell_type": "markdown",
   "metadata": {},
   "source": [
    "As a final bonus round, check out the matplotlib function plt.quiver, which is a useful command for plotting gradients (in 2D).  The gradient of the log-posterior function is \n",
    "$$\n",
    "\\nabla_\\mathbf{w} \\mathcal{L} = \\sum_{i=1}^m \\left[ (\\mathbf{Y}_{obs,i} - \\sigma(\\Phi_i \\mathbf{w})) \\Phi_i\\right] - \\lambda\\mathbf{w}^T. \n",
    "$$\n",
    "Use the quiver command to produce a plot visualizing the gradient of the log-posterior.  Given this information, can you determine a more efficient way than brute force to find the maximum value of $\\mathcal{L}(\\mathbf{w}$?"
   ]
  },
  {
   "cell_type": "code",
   "execution_count": 12,
   "metadata": {},
   "outputs": [],
   "source": [
    "#! use plt.quiver to visualize the gradients of the log-posterior."
   ]
  },
  {
   "cell_type": "code",
   "execution_count": null,
   "metadata": {},
   "outputs": [],
   "source": []
  }
 ],
 "metadata": {
  "kernelspec": {
   "display_name": "Python 3",
   "language": "python",
   "name": "python3"
  },
  "language_info": {
   "codemirror_mode": {
    "name": "ipython",
    "version": 3
   },
   "file_extension": ".py",
   "mimetype": "text/x-python",
   "name": "python",
   "nbconvert_exporter": "python",
   "pygments_lexer": "ipython3",
   "version": "3.8.5"
  }
 },
 "nbformat": 4,
 "nbformat_minor": 2
}
